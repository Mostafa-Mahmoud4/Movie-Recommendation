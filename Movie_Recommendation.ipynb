{
  "nbformat": 4,
  "nbformat_minor": 0,
  "metadata": {
    "colab": {
      "provenance": []
    },
    "kernelspec": {
      "name": "python3",
      "display_name": "Python 3"
    },
    "language_info": {
      "name": "python"
    }
  },
  "cells": [
    {
      "cell_type": "code",
      "source": [
        "import pandas as pd\n",
        "from sklearn.feature_extraction.text import CountVectorizer\n",
        "from sklearn.metrics.pairwise import cosine_similarity\n",
        "\n",
        "# Load data\n",
        "movies = pd.read_csv(\"tmdb_5000_movies.csv\")\n",
        "credits = pd.read_csv(\"tmdb_5000_credits.csv\")\n",
        "\n",
        "# Merge datasets\n",
        "data = pd.merge(movies, credits, left_on='id', right_on='movie_id')\n",
        "\n",
        "# Clean and preprocess data\n",
        "data['genres'] = data['genres'].apply(lambda x: ' '.join(sorted([g['name'] for g in eval(x)])))\n",
        "data['cast'] = data['cast'].apply(lambda x: ' '.join(sorted([c['name'] for c in eval(x)])))\n",
        "data['crew'] = data['crew'].apply(lambda x: ' '.join(sorted([c['name'] for c in eval(x) if c['job'] == 'Director'])))\n",
        "\n",
        "# Create a feature matrix using CountVectorizer\n",
        "cv = CountVectorizer()\n",
        "features = cv.fit_transform(data['genres'] + ' ' + data['cast'] + ' ' + data['crew'])\n",
        "\n",
        "# Calculate cosine similarity\n",
        "cosine_sim = cosine_similarity(features)\n",
        "\n",
        "# Function to get recommendations\n",
        "def get_recommendations(title, cosine_sim=cosine_sim):\n",
        "    idx = data[data['original_title'] == title].index[0]\n",
        "    sim_scores = list(enumerate(cosine_sim[idx]))\n",
        "    sim_scores = sorted(sim_scores, key=lambda x: x[1], reverse=True)\n",
        "    sim_scores = sim_scores[1:11]  # Exclude the movie itself\n",
        "    movie_indices = [i[0] for i in sim_scores]\n",
        "    return data['original_title'].iloc[movie_indices]\n",
        "\n",
        "# Test the recommendation system\n",
        "movie_title = \"Shrek the Third\"\n",
        "recommendations = get_recommendations(movie_title)\n",
        "print(f\"Recommendations for '{movie_title}':\")\n",
        "print(recommendations)\n"
      ],
      "metadata": {
        "colab": {
          "base_uri": "https://localhost:8080/"
        },
        "id": "VoF_0Ib5QqrL",
        "outputId": "18656e16-49c8-4c36-b0ce-e4f6f06a2e4c"
      },
      "execution_count": null,
      "outputs": [
        {
          "output_type": "stream",
          "name": "stdout",
          "text": [
            "Recommendations for 'Shrek the Third':\n",
            "565                        Shrek 2\n",
            "86             Shrek Forever After\n",
            "899                          Shrek\n",
            "67              Monsters vs Aliens\n",
            "509                     Madagascar\n",
            "187                  Puss in Boots\n",
            "179         Penguins of Madagascar\n",
            "120    Madagascar: Escape 2 Africa\n",
            "196                       Megamind\n",
            "458                      Yogi Bear\n",
            "Name: original_title, dtype: object\n"
          ]
        }
      ]
    },
    {
      "cell_type": "code",
      "source": [
        "import pandas as pd\n",
        "from sklearn.feature_extraction.text import CountVectorizer\n",
        "from sklearn.metrics.pairwise import cosine_similarity\n",
        "\n",
        "# Load data\n",
        "movies = pd.read_csv(\"tmdb_5000_movies.csv\")\n",
        "credits = pd.read_csv(\"tmdb_5000_credits.csv\")\n",
        "\n",
        "# Merge datasets\n",
        "data = pd.merge(movies, credits, left_on='id', right_on='movie_id')\n",
        "\n",
        "# Clean and preprocess data\n",
        "data['genres'] = data['genres'].apply(lambda x: ' '.join(sorted([g['name'] for g in eval(x)])))\n",
        "data['cast'] = data['cast'].apply(lambda x: ' '.join(sorted([c['name'] for c in eval(x)])))\n",
        "\n",
        "# Create a feature matrix using CountVectorizer\n",
        "cv = CountVectorizer()\n",
        "features = cv.fit_transform(data['genres'] + ' ' + data['cast'])\n",
        "\n",
        "# Calculate cosine similarity\n",
        "cosine_sim = cosine_similarity(features)\n",
        "\n",
        "# Function to get recommendations\n",
        "def get_recommendations(title, cosine_sim=cosine_sim):\n",
        "    idx = data[data['original_title'] == title].index[0]\n",
        "    sim_scores = list(enumerate(cosine_sim[idx]))\n",
        "    sim_scores = sorted(sim_scores, key=lambda x: x[1], reverse=True)\n",
        "    sim_scores = sim_scores[1:11]  # Exclude the movie itself\n",
        "    movie_indices = [i[0] for i in sim_scores]\n",
        "    return data['original_title'].iloc[movie_indices]\n",
        "\n",
        "# Test the recommendation system\n",
        "movie_title = \"Shrek the Third\"\n",
        "recommendations = get_recommendations(movie_title)\n",
        "print(f\"Recommendations for '{movie_title}':\")\n",
        "print(recommendations)\n"
      ],
      "metadata": {
        "colab": {
          "base_uri": "https://localhost:8080/"
        },
        "id": "SXeMqmhAV63A",
        "outputId": "f9b0aefe-a140-481c-de75-efca48eeaef2"
      },
      "execution_count": null,
      "outputs": [
        {
          "output_type": "stream",
          "name": "stdout",
          "text": [
            "Recommendations for 'Shrek the Third':\n",
            "565                         Shrek 2\n",
            "86              Shrek Forever After\n",
            "899                           Shrek\n",
            "67               Monsters vs Aliens\n",
            "509                      Madagascar\n",
            "187                   Puss in Boots\n",
            "179          Penguins of Madagascar\n",
            "196                        Megamind\n",
            "4664                        Bronson\n",
            "120     Madagascar: Escape 2 Africa\n",
            "Name: original_title, dtype: object\n"
          ]
        }
      ]
    },
    {
      "cell_type": "code",
      "source": [
        "import pandas as pd\n",
        "from sklearn.feature_extraction.text import TfidfVectorizer\n",
        "from sklearn.metrics.pairwise import linear_kernel\n",
        "\n",
        "# Load data\n",
        "movies = pd.read_csv(\"tmdb_5000_movies.csv\")\n",
        "\n",
        "# Clean and preprocess data\n",
        "movies['overview'] = movies['overview'].fillna('')  # Fill missing values with empty string\n",
        "\n",
        "# Create a TF-IDF Vectorizer\n",
        "tfidf = TfidfVectorizer(stop_words='english')\n",
        "\n",
        "# Construct the TF-IDF matrix\n",
        "tfidf_matrix = tfidf.fit_transform(movies['overview'])\n",
        "\n",
        "# Calculate cosine similarity\n",
        "cosine_sim = linear_kernel(tfidf_matrix, tfidf_matrix)\n",
        "\n",
        "# Function to get recommendations\n",
        "def get_recommendations(title, cosine_sim=cosine_sim, movies=movies):\n",
        "    idx = movies[movies['original_title'] == title].index[0]\n",
        "    sim_scores = list(enumerate(cosine_sim[idx]))\n",
        "    sim_scores = sorted(sim_scores, key=lambda x: x[1], reverse=True)\n",
        "    sim_scores = sim_scores[1:11]  # Exclude the movie itself\n",
        "    movie_indices = [i[0] for i in sim_scores]\n",
        "    return movies['original_title'].iloc[movie_indices]\n",
        "\n",
        "# Test the recommendation system\n",
        "movie_title = \"Shrek the Third\"\n",
        "recommendations = get_recommendations(movie_title)\n",
        "print(f\"Recommendations for '{movie_title}':\")\n",
        "print(recommendations)\n"
      ],
      "metadata": {
        "colab": {
          "base_uri": "https://localhost:8080/"
        },
        "id": "SNbzQJClXJ5B",
        "outputId": "ac98d5af-e11b-4e36-f17d-cbbe177eac2f"
      },
      "execution_count": null,
      "outputs": [
        {
          "output_type": "stream",
          "name": "stdout",
          "text": [
            "Recommendations for 'Shrek the Third':\n",
            "565                           Shrek 2\n",
            "86                Shrek Forever After\n",
            "899                             Shrek\n",
            "1246                Quest for Camelot\n",
            "2517                The King's Speech\n",
            "80        Snow White and the Huntsman\n",
            "2366                     Dragonslayer\n",
            "4266    House at the End of the Drive\n",
            "4621                       Royal Kill\n",
            "3608                Solomon and Sheba\n",
            "Name: original_title, dtype: object\n"
          ]
        }
      ]
    }
  ]
}